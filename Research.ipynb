{
 "cells": [
  {
   "cell_type": "code",
   "execution_count": 443,
   "metadata": {
    "colab": {
     "base_uri": "https://localhost:8080/",
     "height": 52
    },
    "colab_type": "code",
    "id": "5nwT8fEembSt",
    "outputId": "ef31ee84-db6f-4356-a0af-58b75d173d69"
   },
   "outputs": [
    {
     "name": "stdout",
     "output_type": "stream",
     "text": [
      "[nltk_data] Downloading package stopwords to /root/nltk_data...\n",
      "[nltk_data]   Package stopwords is already up-to-date!\n"
     ]
    },
    {
     "data": {
      "text/html": [
       "<script type=\"text/javascript\">window.PlotlyConfig = {MathJaxConfig: 'local'};</script><script type=\"text/javascript\">if (window.MathJax) {MathJax.Hub.Config({SVG: {font: \"STIX-Web\"}});}</script><script>requirejs.config({paths: { 'plotly': ['https://cdn.plot.ly/plotly-latest.min']},});if(!window._Plotly) {require(['plotly'],function(plotly) {window._Plotly=plotly;});}</script>"
      ],
      "text/vnd.plotly.v1+html": [
       "<script type=\"text/javascript\">window.PlotlyConfig = {MathJaxConfig: 'local'};</script><script type=\"text/javascript\">if (window.MathJax) {MathJax.Hub.Config({SVG: {font: \"STIX-Web\"}});}</script><script>requirejs.config({paths: { 'plotly': ['https://cdn.plot.ly/plotly-latest.min']},});if(!window._Plotly) {require(['plotly'],function(plotly) {window._Plotly=plotly;});}</script>"
      ]
     },
     "metadata": {
      "tags": []
     },
     "output_type": "display_data"
    }
   ],
   "source": [
    "import numpy\n",
    "from keras.datasets import imdb\n",
    "from keras.models import Sequential\n",
    "from keras.layers import Dense\n",
    "from keras.layers import LSTM\n",
    "from keras.layers.embeddings import Embedding\n",
    "from keras.preprocessing import sequence\n",
    "numpy.random.seed(7)\n",
    "from keras.preprocessing.text import Tokenizer\n",
    "from keras.preprocessing.sequence import pad_sequences\n",
    "from keras.models import Sequential\n",
    "from keras.layers import Dense, Flatten, LSTM, Conv1D, MaxPooling1D, Dropout, Activation\n",
    "from keras.layers.embeddings import Embedding\n",
    "import nltk\n",
    "nltk.download('stopwords')\n",
    "from sklearn import model_selection, preprocessing, linear_model, naive_bayes, metrics, svm\n",
    "import plotly.offline as py\n",
    "import plotly.graph_objs as go\n",
    "py.init_notebook_mode(connected=True)\n",
    "from nltk.stem.snowball import SnowballStemmer\n",
    "# Others\n",
    "import nltk\n",
    "import string\n",
    "import numpy as np\n",
    "import pandas as pd\n",
    "from nltk.corpus import stopwords\n",
    "import re\n",
    "from nltk.tokenize import WordPunctTokenizer\n",
    "from sklearn.manifold import TSNE\n",
    "import matplotlib.pyplot as plt"
   ]
  },
  {
   "cell_type": "code",
   "execution_count": 0,
   "metadata": {
    "colab": {},
    "colab_type": "code",
    "id": "YVEY-xmYpLWF"
   },
   "outputs": [],
   "source": [
    "data = pd.read_csv('/content/enron_train.csv',names = ['intent', 'Messages'],error_bad_lines=False)\n",
    "test = pd.read_csv('/content/enron_test.csv',names = ['intent', 'Messages'],error_bad_lines=False)"
   ]
  },
  {
   "cell_type": "code",
   "execution_count": 445,
   "metadata": {
    "colab": {
     "base_uri": "https://localhost:8080/",
     "height": 69
    },
    "colab_type": "code",
    "id": "YYjLQ2ZViCmI",
    "outputId": "ef3e9427-5a59-4ac4-a612-97779a4838fa"
   },
   "outputs": [
    {
     "data": {
      "text/plain": [
       "No     1857\n",
       "Yes    1719\n",
       "Name: intent, dtype: int64"
      ]
     },
     "execution_count": 445,
     "metadata": {
      "tags": []
     },
     "output_type": "execute_result"
    }
   ],
   "source": [
    "data['intent'].value_counts()"
   ]
  },
  {
   "cell_type": "code",
   "execution_count": 446,
   "metadata": {
    "colab": {
     "base_uri": "https://localhost:8080/",
     "height": 69
    },
    "colab_type": "code",
    "id": "YhlofZSqiUU7",
    "outputId": "f30aba30-80db-41dc-a99f-9ac75596829f"
   },
   "outputs": [
    {
     "data": {
      "text/plain": [
       "No     683\n",
       "Yes    309\n",
       "Name: intent, dtype: int64"
      ]
     },
     "execution_count": 446,
     "metadata": {
      "tags": []
     },
     "output_type": "execute_result"
    }
   ],
   "source": [
    "test['intent'].value_counts()"
   ]
  },
  {
   "cell_type": "code",
   "execution_count": 0,
   "metadata": {
    "colab": {},
    "colab_type": "code",
    "id": "jQjMyPWwhaLC"
   },
   "outputs": [],
   "source": [
    "# label encode the target variable \n",
    "encoder = preprocessing.LabelEncoder()\n",
    "train_labels = encoder.fit_transform(data['intent'])\n",
    "#train_labels=pd.get_dummies(data['intent'])"
   ]
  },
  {
   "cell_type": "code",
   "execution_count": 0,
   "metadata": {
    "colab": {},
    "colab_type": "code",
    "id": "lLOHT_S2ibnN"
   },
   "outputs": [],
   "source": [
    "# label encode the target variable \n",
    "encoder = preprocessing.LabelEncoder()\n",
    "test_labels = encoder.fit_transform(test['intent'])\n",
    "#test_labels=pd.get_dummies(test['intent'])"
   ]
  },
  {
   "cell_type": "code",
   "execution_count": 0,
   "metadata": {
    "colab": {},
    "colab_type": "code",
    "id": "VoyD3hAveyiw"
   },
   "outputs": [],
   "source": [
    "##train_labels"
   ]
  },
  {
   "cell_type": "code",
   "execution_count": 0,
   "metadata": {
    "colab": {},
    "colab_type": "code",
    "id": "HEAM8NUWps0_"
   },
   "outputs": [],
   "source": [
    "def clean_text(text):\n",
    "    \n",
    "    ## Remove puncuation\n",
    "    text = text.translate(string.punctuation)\n",
    "    \n",
    "    ## Convert words to lower case and split them\n",
    "    text = text.lower().split()\n",
    "    \n",
    "    ## Remove stop words\n",
    "    stops = set(stopwords.words(\"english\"))\n",
    "    text = [w for w in text if not w in stops and len(w) >= 3]\n",
    "    \n",
    "    text = \" \".join(text)\n",
    "\n",
    "    ## Clean the text\n",
    "    text = re.sub(r\"[^A-Za-z0-9^,!.\\/'+-=]\", \" \", text)\n",
    "    text = re.sub(r\"what's\", \"what is \", text)\n",
    "    text = re.sub(r\"\\'s\", \" \", text)\n",
    "    text = re.sub(r\"\\'ve\", \" have \", text)\n",
    "    text = re.sub(r\"n't\", \" not \", text)\n",
    "    text = re.sub(r\"i'm\", \"i am \", text)\n",
    "    text = re.sub(r\"\\'re\", \" are \", text)\n",
    "    text = re.sub(r\"\\'d\", \" would \", text)\n",
    "    text = re.sub(r\"\\'ll\", \" will \", text)\n",
    "    text = re.sub(r\",\", \" \", text)\n",
    "    text = re.sub(r\"\\.\", \" \", text)\n",
    "    text = re.sub(r\"!\", \" ! \", text)\n",
    "    text = re.sub(r\"\\/\", \" \", text)\n",
    "    text = re.sub(r\"\\^\", \" ^ \", text)\n",
    "    text = re.sub(r\"\\+\", \" + \", text)\n",
    "    text = re.sub(r\"\\-\", \" - \", text)\n",
    "    text = re.sub(r\"\\=\", \" = \", text)\n",
    "    text = re.sub(r\"'\", \" \", text)\n",
    "    text = re.sub(r\"(\\d+)(k)\", r\"\\g<1>000\", text)\n",
    "    text = re.sub(r\":\", \" : \", text)\n",
    "    text = re.sub(r\" e g \", \" eg \", text)\n",
    "    text = re.sub(r\" b g \", \" bg \", text)\n",
    "    text = re.sub(r\" u s \", \" american \", text)\n",
    "    text = re.sub(r\"\\0s\", \"0\", text)\n",
    "    text = re.sub(r\" 9 11 \", \"911\", text)\n",
    "    text = re.sub(r\"e - mail\", \"email\", text)\n",
    "    text = re.sub(r\"j k\", \"jk\", text)\n",
    "    text = re.sub(r\"\\s{2,}\", \" \", text)\n",
    "\n",
    "    ## Stemming\n",
    "    text = text.split()\n",
    "    stemmer = SnowballStemmer('english')\n",
    "    stemmed_words = [stemmer.stem(word) for word in text]\n",
    "    text = \" \".join(stemmed_words)\n",
    "    return text"
   ]
  },
  {
   "cell_type": "code",
   "execution_count": 0,
   "metadata": {
    "colab": {},
    "colab_type": "code",
    "id": "IP40tJtwpydo"
   },
   "outputs": [],
   "source": [
    "# apply the above function to df['text']\n",
    "\n",
    "data['Messages'] = data['Messages'].map(lambda x: clean_text(x))\n",
    "test['Messages'] = test['Messages'].map(lambda x: clean_text(x))"
   ]
  },
  {
   "cell_type": "code",
   "execution_count": 0,
   "metadata": {
    "colab": {},
    "colab_type": "code",
    "id": "dadKvNzSqxPM"
   },
   "outputs": [],
   "source": [
    "### Create sequence\n",
    "vocabulary_size = 20000\n",
    "tokenizer = Tokenizer(num_words= vocabulary_size)\n",
    "tokenizer.fit_on_texts(data['Messages'])\n",
    "sequences = tokenizer.texts_to_sequences(data['Messages'])\n",
    "train = pad_sequences(sequences, maxlen=50)"
   ]
  },
  {
   "cell_type": "code",
   "execution_count": 0,
   "metadata": {
    "colab": {},
    "colab_type": "code",
    "id": "8AUCa7H2RFOk"
   },
   "outputs": [],
   "source": [
    "### Create sequence\n",
    "vocabulary_size = 20000\n",
    "tokenizer = Tokenizer(num_words= vocabulary_size)\n",
    "tokenizer.fit_on_texts(test['Messages'])\n",
    "sequences = tokenizer.texts_to_sequences(test['Messages'])\n",
    "test = pad_sequences(sequences, maxlen=50)"
   ]
  },
  {
   "cell_type": "code",
   "execution_count": 0,
   "metadata": {
    "colab": {},
    "colab_type": "code",
    "id": "I2fZOtYt0qNT"
   },
   "outputs": [],
   "source": [
    "from sklearn.model_selection import train_test_split\n",
    "X_train=train\n",
    "X_test=test\n",
    "Y_train=train_labels\n",
    "Y_test=test_labels\n",
    "##X_train, X_test, Y_train, Y_test = train_test_split(X,labels, test_size = 0.10, random_state = 42)"
   ]
  },
  {
   "cell_type": "code",
   "execution_count": 455,
   "metadata": {
    "colab": {
     "base_uri": "https://localhost:8080/",
     "height": 34
    },
    "colab_type": "code",
    "id": "AWJGq2IhR46a",
    "outputId": "04240f2c-7416-46ef-9c62-c84c65538169"
   },
   "outputs": [
    {
     "data": {
      "text/plain": [
       "(992,)"
      ]
     },
     "execution_count": 455,
     "metadata": {
      "tags": []
     },
     "output_type": "execute_result"
    }
   ],
   "source": [
    "Y_test.shape"
   ]
  },
  {
   "cell_type": "code",
   "execution_count": 456,
   "metadata": {
    "colab": {
     "base_uri": "https://localhost:8080/",
     "height": 402
    },
    "colab_type": "code",
    "id": "OYYkMsYUrB0b",
    "outputId": "fbaab49c-0465-48a3-9b01-f7ba47fafd7a"
   },
   "outputs": [
    {
     "name": "stdout",
     "output_type": "stream",
     "text": [
      "Train on 3576 samples, validate on 992 samples\n",
      "Epoch 1/10\n",
      "3576/3576 [==============================] - 20s 6ms/step - loss: 0.6527 - acc: 0.6138 - val_loss: 0.7852 - val_acc: 0.5685\n",
      "Epoch 2/10\n",
      "3576/3576 [==============================] - 11s 3ms/step - loss: 0.5198 - acc: 0.7413 - val_loss: 0.7664 - val_acc: 0.5887\n",
      "Epoch 3/10\n",
      "3576/3576 [==============================] - 11s 3ms/step - loss: 0.4562 - acc: 0.7864 - val_loss: 0.8656 - val_acc: 0.5524\n",
      "Epoch 4/10\n",
      "3576/3576 [==============================] - 11s 3ms/step - loss: 0.4048 - acc: 0.8230 - val_loss: 0.9452 - val_acc: 0.5554\n",
      "Epoch 5/10\n",
      "3576/3576 [==============================] - 11s 3ms/step - loss: 0.3693 - acc: 0.8378 - val_loss: 0.9667 - val_acc: 0.5282\n",
      "Epoch 6/10\n",
      "3576/3576 [==============================] - 11s 3ms/step - loss: 0.3334 - acc: 0.8577 - val_loss: 0.9985 - val_acc: 0.5575\n",
      "Epoch 7/10\n",
      "3576/3576 [==============================] - 11s 3ms/step - loss: 0.3144 - acc: 0.8683 - val_loss: 1.2407 - val_acc: 0.5212\n",
      "Epoch 8/10\n",
      "3576/3576 [==============================] - 11s 3ms/step - loss: 0.2924 - acc: 0.8750 - val_loss: 1.1520 - val_acc: 0.5665\n",
      "Epoch 9/10\n",
      "3576/3576 [==============================] - 11s 3ms/step - loss: 0.2710 - acc: 0.8865 - val_loss: 1.3126 - val_acc: 0.5665\n",
      "Epoch 10/10\n",
      "3576/3576 [==============================] - 11s 3ms/step - loss: 0.2491 - acc: 0.8954 - val_loss: 1.3511 - val_acc: 0.5212\n"
     ]
    }
   ],
   "source": [
    "## Network architecture\n",
    "\n",
    "model = Sequential()\n",
    "model.add(Embedding(20000, 100, input_length=50))\n",
    "model.add(LSTM(100, dropout=0.2, recurrent_dropout=0.2))\n",
    "model.add(Dense(32, activation=\"relu\"))\n",
    "model.add(Dense(1, activation='sigmoid'))\n",
    "model.compile(loss='binary_crossentropy', optimizer='rmsprop', metrics=['accuracy'])\n",
    "\n",
    "## Fit the model\n",
    "\n",
    "history =model.fit(X_train,train_labels,validation_data=[X_test,Y_test],epochs=10)"
   ]
  },
  {
   "cell_type": "code",
   "execution_count": 0,
   "metadata": {
    "colab": {},
    "colab_type": "code",
    "id": "gvJdeMl04Cdv"
   },
   "outputs": [],
   "source": [
    "predicted = model.predict(X_test, verbose=2)\n",
    "predicted_labels = predicted.argmax(axis=1)"
   ]
  },
  {
   "cell_type": "code",
   "execution_count": 458,
   "metadata": {
    "colab": {
     "base_uri": "https://localhost:8080/",
     "height": 281
    },
    "colab_type": "code",
    "id": "tx70qU_LSkaD",
    "outputId": "40933f7e-8d3a-4854-bbc9-af5f5754cde6"
   },
   "outputs": [
    {
     "data": {
      "image/png": "[encoded data removed]",
      "text/plain": [
       "<Figure size 432x288 with 1 Axes>"
      ]
     },
     "metadata": {
      "tags": []
     },
     "output_type": "display_data"
    }
   ],
   "source": [
    "plt.title('Loss')\n",
    "plt.plot(history.history['loss'], label='train')\n",
    "plt.legend()\n",
    "plt.show();"
   ]
  },
  {
   "cell_type": "code",
   "execution_count": 459,
   "metadata": {
    "colab": {
     "base_uri": "https://localhost:8080/",
     "height": 281
    },
    "colab_type": "code",
    "id": "tbFW5ehHxiO6",
    "outputId": "068e9a68-ed45-4f2d-c3b5-f378e4ca3295"
   },
   "outputs": [
    {
     "data": {
      "image/png": "[encoded data removed]",
      "text/plain": [
       "<Figure size 432x288 with 1 Axes>"
      ]
     },
     "metadata": {
      "tags": []
     },
     "output_type": "display_data"
    }
   ],
   "source": [
    "plt.title('Accuracy')\n",
    "plt.plot(history.history['acc'], label='train')\n",
    "plt.legend()\n",
    "plt.show();"
   ]
  },
  {
   "cell_type": "code",
   "execution_count": 460,
   "metadata": {
    "colab": {
     "base_uri": "https://localhost:8080/",
     "height": 402
    },
    "colab_type": "code",
    "id": "xscrPINEtdx9",
    "outputId": "28e6f54b-cce2-4be8-f2f2-9b198ce13586"
   },
   "outputs": [
    {
     "name": "stdout",
     "output_type": "stream",
     "text": [
      "Train on 3576 samples, validate on 992 samples\n",
      "Epoch 1/10\n",
      "3576/3576 [==============================] - 12s 3ms/step - loss: 0.6841 - acc: 0.5506 - val_loss: 0.6597 - val_acc: 0.6492\n",
      "Epoch 2/10\n",
      "3576/3576 [==============================] - 3s 768us/step - loss: 0.5783 - acc: 0.6860 - val_loss: 0.6918 - val_acc: 0.6391\n",
      "Epoch 3/10\n",
      "3576/3576 [==============================] - 3s 770us/step - loss: 0.5174 - acc: 0.7290 - val_loss: 0.9219 - val_acc: 0.4224\n",
      "Epoch 4/10\n",
      "3576/3576 [==============================] - 3s 776us/step - loss: 0.4714 - acc: 0.7508 - val_loss: 0.8419 - val_acc: 0.5827\n",
      "Epoch 5/10\n",
      "3576/3576 [==============================] - 3s 793us/step - loss: 0.4265 - acc: 0.7740 - val_loss: 0.8768 - val_acc: 0.4970\n",
      "Epoch 6/10\n",
      "3576/3576 [==============================] - 3s 791us/step - loss: 0.3885 - acc: 0.7978 - val_loss: 0.9690 - val_acc: 0.5020\n",
      "Epoch 7/10\n",
      "3576/3576 [==============================] - 3s 792us/step - loss: 0.3504 - acc: 0.8149 - val_loss: 1.0450 - val_acc: 0.5121\n",
      "Epoch 8/10\n",
      "3576/3576 [==============================] - 3s 783us/step - loss: 0.3181 - acc: 0.8202 - val_loss: 1.1704 - val_acc: 0.5736\n",
      "Epoch 9/10\n",
      "3576/3576 [==============================] - 3s 779us/step - loss: 0.2888 - acc: 0.8372 - val_loss: 1.5980 - val_acc: 0.4496\n",
      "Epoch 10/10\n",
      "3576/3576 [==============================] - 3s 768us/step - loss: 0.2669 - acc: 0.8442 - val_loss: 1.3930 - val_acc: 0.5897\n"
     ]
    }
   ],
   "source": [
    "def create_conv_model():\n",
    "    model_conv = Sequential()\n",
    "    model_conv.add(Embedding(vocabulary_size, 100, input_length=50))\n",
    "    model_conv.add(Dropout(0.2))\n",
    "    model_conv.add(Conv1D(64, 5, activation='relu'))\n",
    "    model_conv.add(MaxPooling1D(pool_size=4))\n",
    "    model_conv.add(LSTM(100))\n",
    "    model_conv.add(Dense(32, activation=\"relu\"))\n",
    "    model_conv.add(Dense(1, activation='sigmoid'))\n",
    "    model_conv.compile(loss='binary_crossentropy', optimizer='rmsprop',    metrics=['accuracy'])\n",
    "    return model_conv\n",
    "\n",
    "model_conv = create_conv_model()\n",
    "history =model_conv.fit(X_train,train_labels,validation_data=[X_test,Y_test],epochs=10)"
   ]
  },
  {
   "cell_type": "code",
   "execution_count": 0,
   "metadata": {
    "colab": {},
    "colab_type": "code",
    "id": "FVmqVFa-Str8"
   },
   "outputs": [],
   "source": [
    "predicted = model_conv.predict(X_test , verbose=2)\n",
    "predicted_labels = predicted.argmax(axis=1)"
   ]
  },
  {
   "cell_type": "code",
   "execution_count": 462,
   "metadata": {
    "colab": {
     "base_uri": "https://localhost:8080/",
     "height": 281
    },
    "colab_type": "code",
    "id": "oq0yW3EKSt7k",
    "outputId": "e744d808-cca6-49a2-adb3-67e4dce5af5f"
   },
   "outputs": [
    {
     "data": {
      "image/png": "[encoded data removed]",
      "text/plain": [
       "<Figure size 432x288 with 1 Axes>"
      ]
     },
     "metadata": {
      "tags": []
     },
     "output_type": "display_data"
    }
   ],
   "source": [
    "plt.title('Loss')\n",
    "plt.plot(history.history['loss'], label='train')\n",
    "plt.plot(history.history['val_loss'], label='test')\n",
    "plt.legend()\n",
    "plt.show();"
   ]
  },
  {
   "cell_type": "code",
   "execution_count": 463,
   "metadata": {
    "colab": {
     "base_uri": "https://localhost:8080/",
     "height": 281
    },
    "colab_type": "code",
    "id": "KIR6pGe4yM3O",
    "outputId": "af852451-fbfc-4b43-d0f1-a9d6778b4278"
   },
   "outputs": [
    {
     "data": {
      "image/png": "[encoded data removed]",
      "text/plain": [
       "<Figure size 432x288 with 1 Axes>"
      ]
     },
     "metadata": {
      "tags": []
     },
     "output_type": "display_data"
    }
   ],
   "source": [
    "plt.title('Accuracy')\n",
    "plt.plot(history.history['acc'], label='train')\n",
    "plt.plot(history.history['val_acc'], label='test')\n",
    "plt.legend()\n",
    "plt.show();"
   ]
  },
  {
   "cell_type": "code",
   "execution_count": 0,
   "metadata": {
    "colab": {},
    "colab_type": "code",
    "id": "LidjovJn4SfZ"
   },
   "outputs": [],
   "source": [
    "from gensim.models import Word2Vec"
   ]
  },
  {
   "cell_type": "code",
   "execution_count": 465,
   "metadata": {
    "colab": {
     "base_uri": "https://localhost:8080/",
     "height": 72
    },
    "colab_type": "code",
    "id": "2Eh5w6lA4Q2F",
    "outputId": "8191f93e-7ba7-4b15-948c-7478c63091ef"
   },
   "outputs": [
    {
     "name": "stderr",
     "output_type": "stream",
     "text": [
      "W0616 15:11:04.418688 140348080543616 word2vec.py:1546] Each 'sentences' item should be a list of words (usually unicode strings). First item here is instead plain <class 'str'>.\n",
      "W0616 15:11:04.676915 140348080543616 base_any2vec.py:1386] under 10 jobs per worker: consider setting a smaller `batch_words' for smoother alpha decay\n"
     ]
    }
   ],
   "source": [
    "model = Word2Vec(data['Messages'], size=300, window=5, min_count=5, workers=16, sg=0, negative=5)"
   ]
  },
  {
   "cell_type": "code",
   "execution_count": 0,
   "metadata": {
    "colab": {},
    "colab_type": "code",
    "id": "XSqhCiGS-dEO"
   },
   "outputs": [],
   "source": [
    "word_vectors = model.wv\n",
    "\n",
    "MAX_NB_WORDS = len(word_vectors.vocab)\n",
    "MAX_SEQUENCE_LENGTH = 200\n"
   ]
  },
  {
   "cell_type": "code",
   "execution_count": 467,
   "metadata": {
    "colab": {
     "base_uri": "https://localhost:8080/",
     "height": 34
    },
    "colab_type": "code",
    "id": "ubu4_7Ay-wN9",
    "outputId": "646697fd-3e1e-427c-959c-dd8b12440234"
   },
   "outputs": [
    {
     "name": "stdout",
     "output_type": "stream",
     "text": [
      "Number of word vectors: 42\n"
     ]
    }
   ],
   "source": [
    "print(\"Number of word vectors: {}\".format(len(word_vectors.vocab)))"
   ]
  },
  {
   "cell_type": "code",
   "execution_count": 468,
   "metadata": {
    "colab": {
     "base_uri": "https://localhost:8080/",
     "height": 72
    },
    "colab_type": "code",
    "id": "-rLs8xhsHbGY",
    "outputId": "ec99c9ba-0519-4b57-a9f2-14fa32dbc445"
   },
   "outputs": [
    {
     "name": "stderr",
     "output_type": "stream",
     "text": [
      "W0616 15:11:04.717021 140348080543616 word2vec.py:1546] Each 'sentences' item should be a list of words (usually unicode strings). First item here is instead plain <class 'str'>.\n"
     ]
    },
    {
     "name": "stdout",
     "output_type": "stream",
     "text": [
      "Found 3809 unique tokens.\n"
     ]
    }
   ],
   "source": [
    "import gensim\n",
    "word_model = gensim.models.Word2Vec(data['Messages'].values, size=300, min_count=1, iter=10)\n",
    "# save the vectors in a new matrix\n",
    "embedding_matrix = np.zeros((len(word_model.wv.vocab) + 1, 300))\n",
    "for i, vec in enumerate(word_model.wv.vectors):\n",
    "    embedding_matrix[i] = vec\n",
    "    \n",
    "# The maximum number of words to be used. (most frequent)\n",
    "MAX_NB_WORDS = len(word_model.wv.vocab)+1\n",
    "# Max number of words in each complaint.\n",
    "MAX_SEQUENCE_LENGTH = 500\n",
    "# This is fixed.\n",
    "EMBEDDING_DIM = 300\n",
    "\n",
    "tokenizer = Tokenizer(num_words=MAX_NB_WORDS, filters='!\"#$%&()*+,-./:;<=>?@[\\]^_`{|}~', lower=True)\n",
    "tokenizer.fit_on_texts(data['Messages'].values)\n",
    "word_index = tokenizer.word_index\n",
    "print('Found %s unique tokens.' % len(word_index))"
   ]
  },
  {
   "cell_type": "code",
   "execution_count": 0,
   "metadata": {
    "colab": {},
    "colab_type": "code",
    "id": "dqMeLR9pI51F"
   },
   "outputs": [],
   "source": [
    "#from sklearn.model_selection import train_test_split\n",
    "#X = tokenizer.texts_to_sequences(data['Messages'].values)\n",
    "#X = pad_sequences(X, maxlen=MAX_SEQUENCE_LENGTH)\n",
    "#print('Shape of data tensor:', X.shape)\n",
    "#X_train, X_test, Y_train, Y_test = train_test_split(X,labels, test_size = 0.10, random_state = 42)\n",
    "#print(X_train.shape,Y_train.shape)\n",
    "#print(X_test.shape,Y_test.shape)\n"
   ]
  },
  {
   "cell_type": "code",
   "execution_count": 469,
   "metadata": {
    "colab": {
     "base_uri": "https://localhost:8080/",
     "height": 364
    },
    "colab_type": "code",
    "id": "FAcahKIiJnpA",
    "outputId": "5b71fbe5-1da8-476b-b448-9214875e0794"
   },
   "outputs": [
    {
     "name": "stdout",
     "output_type": "stream",
     "text": [
      "_________________________________________________________________\n",
      "Layer (type)                 Output Shape              Param #   \n",
      "=================================================================\n",
      "embedding_46 (Embedding)     (None, 50, 300)           13500     \n",
      "_________________________________________________________________\n",
      "spatial_dropout1d_8 (Spatial (None, 50, 300)           0         \n",
      "_________________________________________________________________\n",
      "max_pooling1d_21 (MaxPooling (None, 12, 300)           0         \n",
      "_________________________________________________________________\n",
      "lstm_46 (LSTM)               (None, 300)               721200    \n",
      "_________________________________________________________________\n",
      "dense_70 (Dense)             (None, 32)                9632      \n",
      "_________________________________________________________________\n",
      "dense_71 (Dense)             (None, 1)                 33        \n",
      "=================================================================\n",
      "Total params: 744,365\n",
      "Trainable params: 730,865\n",
      "Non-trainable params: 13,500\n",
      "_________________________________________________________________\n",
      "None\n"
     ]
    }
   ],
   "source": [
    "import pandas as pd\n",
    "import os\n",
    "import numpy as np \n",
    "import pandas as pd\n",
    "import matplotlib.pyplot as plt\n",
    "import seaborn as sns\n",
    "from keras.preprocessing.text import Tokenizer\n",
    "from keras.preprocessing.sequence import pad_sequences\n",
    "from keras.models import Sequential\n",
    "from keras.layers import Dense, Embedding, LSTM, SpatialDropout1D\n",
    "from sklearn.model_selection import train_test_split\n",
    "from keras.utils.np_utils import to_categorical\n",
    "from keras.callbacks import EarlyStopping\n",
    "from keras.layers import Dropout\n",
    "from nltk.corpus import stopwords\n",
    "from nltk import word_tokenize\n",
    "import nltk\n",
    "import re\n",
    "from nltk.corpus import stopwords\n",
    "import gensim, re\n",
    "model = Sequential()\n",
    "model.add(Embedding(len(word_model.wv.vocab)+1,300,input_length=X_train.shape[1],weights=[embedding_matrix],trainable=False))\n",
    "model.add(SpatialDropout1D(0.2))\n",
    "model.add(MaxPooling1D(pool_size=4))\n",
    "model.add(LSTM(300, dropout=0.2, recurrent_dropout=0.2))\n",
    "model.add(Dense(32, activation='relu'))\n",
    "model.add(Dense(1, activation='sigmoid'))\n",
    "model.compile(loss='binary_crossentropy', optimizer='rmsprop', metrics=['accuracy'])\n",
    "print(model.summary())"
   ]
  },
  {
   "cell_type": "code",
   "execution_count": 470,
   "metadata": {
    "colab": {
     "base_uri": "https://localhost:8080/",
     "height": 402
    },
    "colab_type": "code",
    "id": "I23wye8uSLW2",
    "outputId": "20c53977-ed51-4ca5-e85c-24bf55a4a38c"
   },
   "outputs": [
    {
     "name": "stdout",
     "output_type": "stream",
     "text": [
      "Train on 3576 samples, validate on 992 samples\n",
      "Epoch 1/10\n",
      "3576/3576 [==============================] - 12s 3ms/step - loss: 0.6850 - acc: 0.5587 - val_loss: 0.6245 - val_acc: 0.6704\n",
      "Epoch 2/10\n",
      "3576/3576 [==============================] - 3s 777us/step - loss: 0.6631 - acc: 0.5962 - val_loss: 0.6171 - val_acc: 0.6784\n",
      "Epoch 3/10\n",
      "3576/3576 [==============================] - 3s 776us/step - loss: 0.6530 - acc: 0.6057 - val_loss: 0.7062 - val_acc: 0.5302\n",
      "Epoch 4/10\n",
      "3576/3576 [==============================] - 3s 780us/step - loss: 0.6455 - acc: 0.6116 - val_loss: 0.6581 - val_acc: 0.5645\n",
      "Epoch 5/10\n",
      "3576/3576 [==============================] - 3s 777us/step - loss: 0.6384 - acc: 0.6152 - val_loss: 0.6510 - val_acc: 0.5857\n",
      "Epoch 6/10\n",
      "3576/3576 [==============================] - 3s 783us/step - loss: 0.6328 - acc: 0.6177 - val_loss: 0.6766 - val_acc: 0.6442\n",
      "Epoch 7/10\n",
      "3576/3576 [==============================] - 3s 780us/step - loss: 0.6263 - acc: 0.6334 - val_loss: 0.6123 - val_acc: 0.6885\n",
      "Epoch 8/10\n",
      "3576/3576 [==============================] - 3s 778us/step - loss: 0.6261 - acc: 0.6314 - val_loss: 0.6522 - val_acc: 0.6583\n",
      "Epoch 9/10\n",
      "3576/3576 [==============================] - 3s 781us/step - loss: 0.6220 - acc: 0.6353 - val_loss: 0.6814 - val_acc: 0.6401\n",
      "Epoch 10/10\n",
      "3576/3576 [==============================] - 3s 781us/step - loss: 0.6240 - acc: 0.6326 - val_loss: 0.6404 - val_acc: 0.6744\n"
     ]
    }
   ],
   "source": [
    "history =model.fit(X_train,train_labels, validation_data=[X_test,Y_test], epochs=10)"
   ]
  },
  {
   "cell_type": "code",
   "execution_count": 0,
   "metadata": {
    "colab": {},
    "colab_type": "code",
    "id": "faa_u86OUdHp"
   },
   "outputs": [],
   "source": [
    "predicted = model.predict(X_test, verbose=2)\n",
    "predicted_labels = predicted.argmax(axis=1)"
   ]
  },
  {
   "cell_type": "code",
   "execution_count": 472,
   "metadata": {
    "colab": {
     "base_uri": "https://localhost:8080/",
     "height": 281
    },
    "colab_type": "code",
    "id": "vlWx1DtTUi3v",
    "outputId": "e98721eb-1395-4f84-ebc7-3c880007ad3a"
   },
   "outputs": [
    {
     "data": {
      "image/png": "[encoded data removed]",
      "text/plain": [
       "<Figure size 432x288 with 1 Axes>"
      ]
     },
     "metadata": {
      "tags": []
     },
     "output_type": "display_data"
    }
   ],
   "source": [
    "plt.title('Loss')\n",
    "plt.plot(history.history['loss'], label='train')\n",
    "plt.plot(history.history['val_loss'], label='test')\n",
    "plt.legend()\n",
    "plt.show();"
   ]
  },
  {
   "cell_type": "code",
   "execution_count": 473,
   "metadata": {
    "colab": {
     "base_uri": "https://localhost:8080/",
     "height": 281
    },
    "colab_type": "code",
    "id": "GZzngrYlymT3",
    "outputId": "09a511a4-0cf9-4fc4-e589-634c9b3e912c"
   },
   "outputs": [
    {
     "data": {
      "image/png": "[encoded data removed]",
      "text/plain": [
       "<Figure size 432x288 with 1 Axes>"
      ]
     },
     "metadata": {
      "tags": []
     },
     "output_type": "display_data"
    }
   ],
   "source": [
    "plt.title('Accuracy')\n",
    "plt.plot(history.history['acc'], label='train')\n",
    "plt.plot(history.history['val_acc'], label='test')\n",
    "plt.legend()\n",
    "plt.show();"
   ]
  },
  {
   "cell_type": "code",
   "execution_count": 474,
   "metadata": {
    "colab": {
     "base_uri": "https://localhost:8080/",
     "height": 402
    },
    "colab_type": "code",
    "id": "7IeMgXdaTIZ4",
    "outputId": "7f98e518-a777-460f-d2c1-6c9ae8f34e08"
   },
   "outputs": [
    {
     "name": "stdout",
     "output_type": "stream",
     "text": [
      "Train on 3576 samples, validate on 992 samples\n",
      "Epoch 1/10\n",
      "3576/3576 [==============================] - 12s 3ms/step - loss: 0.6753 - acc: 0.5761 - val_loss: 0.6254 - val_acc: 0.6976\n",
      "Epoch 2/10\n",
      "3576/3576 [==============================] - 3s 729us/step - loss: 0.6433 - acc: 0.6230 - val_loss: 0.6135 - val_acc: 0.6925\n",
      "Epoch 3/10\n",
      "3576/3576 [==============================] - 3s 725us/step - loss: 0.6260 - acc: 0.6393 - val_loss: 0.7447 - val_acc: 0.5685\n",
      "Epoch 4/10\n",
      "3576/3576 [==============================] - 3s 729us/step - loss: 0.6183 - acc: 0.6463 - val_loss: 0.6530 - val_acc: 0.6683\n",
      "Epoch 5/10\n",
      "3576/3576 [==============================] - 3s 739us/step - loss: 0.6095 - acc: 0.6521 - val_loss: 0.6946 - val_acc: 0.5897\n",
      "Epoch 6/10\n",
      "3576/3576 [==============================] - 3s 746us/step - loss: 0.6022 - acc: 0.6530 - val_loss: 0.6233 - val_acc: 0.6905\n",
      "Epoch 7/10\n",
      "3576/3576 [==============================] - 3s 741us/step - loss: 0.5949 - acc: 0.6574 - val_loss: 0.7009 - val_acc: 0.6643\n",
      "Epoch 8/10\n",
      "3576/3576 [==============================] - 3s 733us/step - loss: 0.5880 - acc: 0.6658 - val_loss: 0.7256 - val_acc: 0.6562\n",
      "Epoch 9/10\n",
      "3576/3576 [==============================] - 3s 743us/step - loss: 0.5856 - acc: 0.6611 - val_loss: 0.6534 - val_acc: 0.6714\n",
      "Epoch 10/10\n",
      "3576/3576 [==============================] - 3s 730us/step - loss: 0.5844 - acc: 0.6605 - val_loss: 0.6590 - val_acc: 0.6774\n"
     ]
    }
   ],
   "source": [
    "## create model\n",
    "model_glove = Sequential()\n",
    "model_glove.add(Embedding(len(word_model.wv.vocab)+1,300,input_length=X_train.shape[1],weights=[embedding_matrix],trainable=False))\n",
    "model_glove.add(Dropout(0.2))\n",
    "model_glove.add(Conv1D(64, 5, activation='relu'))\n",
    "model_glove.add(MaxPooling1D(pool_size=4))\n",
    "model_glove.add(LSTM(100))\n",
    "model_glove.add(Dense(32, activation='relu'))\n",
    "model_glove.add(Dense(1, activation='sigmoid'))\n",
    "model_glove.compile(loss='binary_crossentropy', optimizer='rmsprop', metrics=['accuracy'])\n",
    "\n",
    "## Fit train data\n",
    "history = model_glove.fit(X_train,train_labels, validation_data=[X_test,Y_test], epochs = 10)"
   ]
  },
  {
   "cell_type": "code",
   "execution_count": 0,
   "metadata": {
    "colab": {},
    "colab_type": "code",
    "id": "zBmtVsVuLimm"
   },
   "outputs": [],
   "source": [
    "predicted = model.predict(X_test, verbose=2)\n",
    "predicted_labels = predicted.argmax(axis=1)"
   ]
  },
  {
   "cell_type": "code",
   "execution_count": 476,
   "metadata": {
    "colab": {
     "base_uri": "https://localhost:8080/",
     "height": 281
    },
    "colab_type": "code",
    "id": "PA7LO0_KL_jd",
    "outputId": "920d8347-d520-455c-87f8-8176653c6072"
   },
   "outputs": [
    {
     "data": {
      "image/png": "[encoded data removed]",
      "text/plain": [
       "<Figure size 432x288 with 1 Axes>"
      ]
     },
     "metadata": {
      "tags": []
     },
     "output_type": "display_data"
    }
   ],
   "source": [
    "plt.title('Loss')\n",
    "plt.plot(history.history['loss'], label='train')\n",
    "plt.plot(history.history['val_loss'], label='test')\n",
    "plt.legend()\n",
    "plt.show();"
   ]
  },
  {
   "cell_type": "code",
   "execution_count": 477,
   "metadata": {
    "colab": {
     "base_uri": "https://localhost:8080/",
     "height": 281
    },
    "colab_type": "code",
    "id": "qnNxlw3nzHB7",
    "outputId": "25927622-6a33-4d16-a56d-fc27723ecec1"
   },
   "outputs": [
    {
     "data": {
      "image/png": "[encoded data removed]",
      "text/plain": [
       "<Figure size 432x288 with 1 Axes>"
      ]
     },
     "metadata": {
      "tags": []
     },
     "output_type": "display_data"
    }
   ],
   "source": [
    "plt.title('Accuracy')\n",
    "plt.plot(history.history['acc'], label='train')\n",
    "plt.plot(history.history['val_acc'], label='test')\n",
    "plt.legend()\n",
    "plt.show();"
   ]
  },
  {
   "cell_type": "code",
   "execution_count": 0,
   "metadata": {
    "colab": {},
    "colab_type": "code",
    "id": "rwvB-WbL5fwC"
   },
   "outputs": [],
   "source": [
    "# 1 - Logistic Regression\n",
    "# 2 - K-Nearest Neighbors Classification\n",
    "# 3 - Suport Vector Machine\n",
    "# 4 - Naive Bayes\n",
    "# 5 - Random Forest Classification\n",
    "# Function to calculate mean absolute error\n",
    "def cross_val(X_train, Y_train, model):\n",
    "    # Applying k-Fold Cross Validation\n",
    "    from sklearn.model_selection import cross_val_score\n",
    "    accuracies = cross_val_score(estimator = model, X = X_train, y = Y_train, cv = 5)\n",
    "    return accuracies.mean()\n",
    "# Takes in a model, trains the model, and evaluates the model on the test set\n",
    "def fit_and_evaluate(model):\n",
    "    # Train the model\n",
    "    model.fit(X_train, Y_train)\n",
    "    # Make predictions and evalute\n",
    "    model_pred = model.predict(X_test)\n",
    "    model_cross = cross_val(X_train, Y_train, model)\n",
    "    # Return the performance metric\n",
    "    return model_cross"
   ]
  },
  {
   "cell_type": "code",
   "execution_count": 499,
   "metadata": {
    "colab": {
     "base_uri": "https://localhost:8080/",
     "height": 34
    },
    "colab_type": "code",
    "id": "DFlI5hxr5r1U",
    "outputId": "4cd0d4e1-9b06-48ce-b84f-71654d53ec31"
   },
   "outputs": [
    {
     "name": "stdout",
     "output_type": "stream",
     "text": [
      "Naive Bayes Performance on the test set: Cross Validation Score = 0.4874\n"
     ]
    }
   ],
   "source": [
    "naive = naive_bayes.GaussianNB()\n",
    "naive_cross = fit_and_evaluate(naive)\n",
    "print('Naive Bayes Performance on the test set: Cross Validation Score = %0.4f' % naive_cross)"
   ]
  },
  {
   "cell_type": "code",
   "execution_count": 488,
   "metadata": {
    "colab": {
     "base_uri": "https://localhost:8080/",
     "height": 34
    },
    "colab_type": "code",
    "id": "d3wYP-Sv3gTE",
    "outputId": "d9608673-5785-4c3b-c465-d7e648e5bc67"
   },
   "outputs": [
    {
     "name": "stdout",
     "output_type": "stream",
     "text": [
      "Accuracy:0.6579990663296612\n"
     ]
    }
   ],
   "source": [
    "seed = 7\n",
    "model = XGBClassifier()\n",
    "scoring = 'accuracy'\n",
    "results = cross_val_score(model,X_train, train_labels ,cv=5, scoring=scoring)\n",
    "print(\"Accuracy:\"+str(results.mean()))"
   ]
  },
  {
   "cell_type": "code",
   "execution_count": 502,
   "metadata": {
    "colab": {
     "base_uri": "https://localhost:8080/",
     "height": 52
    },
    "colab_type": "code",
    "id": "h-GOOd328wBt",
    "outputId": "c156e3c3-d6f9-4db5-911c-bb3009483bc2"
   },
   "outputs": [
    {
     "name": "stdout",
     "output_type": "stream",
     "text": [
      "Cross Validation Score = 0.6653\n",
      "AUROC:0.7150539161215516\n"
     ]
    }
   ],
   "source": [
    "from sklearn.ensemble import RandomForestClassifier\n",
    "seed = 7\n",
    "model = RandomForestClassifier(n_estimators = 10, criterion = 'entropy')\n",
    "scoring = 'roc_auc'\n",
    "cross = fit_and_evaluate(model)\n",
    "print('Cross Validation Score = %0.4f' % cross)\n",
    "results = cross_val_score(model,X_train, train_labels ,cv=5, scoring=scoring)\n",
    "print(\"AUROC:\"+str(results.mean()))"
   ]
  },
  {
   "cell_type": "code",
   "execution_count": 481,
   "metadata": {
    "colab": {
     "base_uri": "https://localhost:8080/",
     "height": 34
    },
    "colab_type": "code",
    "id": "F3kABVsc5xbn",
    "outputId": "2e7372e0-8536-4138-93b9-08b4ad42644d"
   },
   "outputs": [
    {
     "name": "stdout",
     "output_type": "stream",
     "text": [
      "Accuracy:0.6577185636140614\n"
     ]
    }
   ],
   "source": [
    "from sklearn.ensemble import RandomForestClassifier\n",
    "seed = 7\n",
    "model = RandomForestClassifier(n_estimators = 10, criterion = 'entropy')\n",
    "scoring = 'accuracy'\n",
    "results = cross_val_score(model,X_train, train_labels ,cv=5, scoring=scoring)\n",
    "print(\"Accuracy:\"+str(results.mean()))"
   ]
  },
  {
   "cell_type": "code",
   "execution_count": 503,
   "metadata": {
    "colab": {
     "base_uri": "https://localhost:8080/",
     "height": 52
    },
    "colab_type": "code",
    "id": "Kg6Cn5Ra9J15",
    "outputId": "7c930aef-4ec7-4f2f-f781-54a713fb9a83"
   },
   "outputs": [
    {
     "name": "stdout",
     "output_type": "stream",
     "text": [
      "Cross Validation Score = 0.5165\n",
      "AUROC:0.5227465528837614\n"
     ]
    }
   ],
   "source": [
    "from sklearn import model_selection, preprocessing, linear_model, naive_bayes, metrics, svm\n",
    "seed = 7\n",
    "model = naive_bayes.MultinomialNB()\n",
    "scoring = 'roc_auc'\n",
    "cross = fit_and_evaluate(model)\n",
    "print('Cross Validation Score = %0.4f' % cross)\n",
    "results = cross_val_score(model,X_train, train_labels ,cv=5, scoring=scoring)\n",
    "print(\"AUROC:\"+str(results.mean()))"
   ]
  },
  {
   "cell_type": "code",
   "execution_count": 483,
   "metadata": {
    "colab": {
     "base_uri": "https://localhost:8080/",
     "height": 34
    },
    "colab_type": "code",
    "id": "yfglOixt79qU",
    "outputId": "93e526e7-ec00-43eb-ffbd-34c1db30a309"
   },
   "outputs": [
    {
     "name": "stdout",
     "output_type": "stream",
     "text": [
      "Accuracy:0.516511337277029\n"
     ]
    }
   ],
   "source": [
    "from sklearn import model_selection, preprocessing, linear_model, naive_bayes, metrics, svm\n",
    "seed = 7\n",
    "model = naive_bayes.MultinomialNB()\n",
    "scoring = 'accuracy'\n",
    "results = cross_val_score(model,X_train, train_labels ,cv=5, scoring=scoring)\n",
    "print(\"Accuracy:\"+str(results.mean()))"
   ]
  },
  {
   "cell_type": "code",
   "execution_count": 504,
   "metadata": {
    "colab": {
     "base_uri": "https://localhost:8080/",
     "height": 836
    },
    "colab_type": "code",
    "id": "GsqoUkvO9RwG",
    "outputId": "7691a033-61e3-430b-a94d-9476b9791742"
   },
   "outputs": [
    {
     "name": "stderr",
     "output_type": "stream",
     "text": [
      "/usr/local/lib/python3.6/dist-packages/sklearn/linear_model/logistic.py:432: FutureWarning:\n",
      "\n",
      "Default solver will be changed to 'lbfgs' in 0.22. Specify a solver to silence this warning.\n",
      "\n",
      "/usr/local/lib/python3.6/dist-packages/sklearn/linear_model/logistic.py:432: FutureWarning:\n",
      "\n",
      "Default solver will be changed to 'lbfgs' in 0.22. Specify a solver to silence this warning.\n",
      "\n",
      "/usr/local/lib/python3.6/dist-packages/sklearn/linear_model/logistic.py:432: FutureWarning:\n",
      "\n",
      "Default solver will be changed to 'lbfgs' in 0.22. Specify a solver to silence this warning.\n",
      "\n",
      "/usr/local/lib/python3.6/dist-packages/sklearn/linear_model/logistic.py:432: FutureWarning:\n",
      "\n",
      "Default solver will be changed to 'lbfgs' in 0.22. Specify a solver to silence this warning.\n",
      "\n",
      "/usr/local/lib/python3.6/dist-packages/sklearn/linear_model/logistic.py:432: FutureWarning:\n",
      "\n",
      "Default solver will be changed to 'lbfgs' in 0.22. Specify a solver to silence this warning.\n",
      "\n",
      "/usr/local/lib/python3.6/dist-packages/sklearn/linear_model/logistic.py:432: FutureWarning:\n",
      "\n",
      "Default solver will be changed to 'lbfgs' in 0.22. Specify a solver to silence this warning.\n",
      "\n",
      "/usr/local/lib/python3.6/dist-packages/sklearn/linear_model/logistic.py:432: FutureWarning:\n",
      "\n",
      "Default solver will be changed to 'lbfgs' in 0.22. Specify a solver to silence this warning.\n",
      "\n"
     ]
    },
    {
     "name": "stdout",
     "output_type": "stream",
     "text": [
      "Cross Validation Score = 0.4978\n"
     ]
    },
    {
     "name": "stderr",
     "output_type": "stream",
     "text": [
      "/usr/local/lib/python3.6/dist-packages/sklearn/linear_model/logistic.py:432: FutureWarning:\n",
      "\n",
      "Default solver will be changed to 'lbfgs' in 0.22. Specify a solver to silence this warning.\n",
      "\n",
      "/usr/local/lib/python3.6/dist-packages/sklearn/linear_model/logistic.py:432: FutureWarning:\n",
      "\n",
      "Default solver will be changed to 'lbfgs' in 0.22. Specify a solver to silence this warning.\n",
      "\n",
      "/usr/local/lib/python3.6/dist-packages/sklearn/linear_model/logistic.py:432: FutureWarning:\n",
      "\n",
      "Default solver will be changed to 'lbfgs' in 0.22. Specify a solver to silence this warning.\n",
      "\n",
      "/usr/local/lib/python3.6/dist-packages/sklearn/linear_model/logistic.py:432: FutureWarning:\n",
      "\n",
      "Default solver will be changed to 'lbfgs' in 0.22. Specify a solver to silence this warning.\n",
      "\n"
     ]
    },
    {
     "name": "stdout",
     "output_type": "stream",
     "text": [
      "AUROC:0.518611015742431\n"
     ]
    }
   ],
   "source": [
    "from sklearn import model_selection, preprocessing, linear_model, naive_bayes, metrics, svm\n",
    "seed = 7\n",
    "model = linear_model.LogisticRegression()\n",
    "scoring = 'roc_auc'\n",
    "cross = fit_and_evaluate(model)\n",
    "print('Cross Validation Score = %0.4f' % cross)\n",
    "results = cross_val_score(model,X_train, train_labels ,cv=5, scoring=scoring)\n",
    "print(\"AUROC:\"+str(results.mean()))"
   ]
  },
  {
   "cell_type": "code",
   "execution_count": 485,
   "metadata": {
    "colab": {
     "base_uri": "https://localhost:8080/",
     "height": 402
    },
    "colab_type": "code",
    "id": "rhK2opn78R9k",
    "outputId": "f9daa4ed-f101-4d99-b125-6feeb3636b8f"
   },
   "outputs": [
    {
     "name": "stderr",
     "output_type": "stream",
     "text": [
      "/usr/local/lib/python3.6/dist-packages/sklearn/linear_model/logistic.py:432: FutureWarning:\n",
      "\n",
      "Default solver will be changed to 'lbfgs' in 0.22. Specify a solver to silence this warning.\n",
      "\n",
      "/usr/local/lib/python3.6/dist-packages/sklearn/linear_model/logistic.py:432: FutureWarning:\n",
      "\n",
      "Default solver will be changed to 'lbfgs' in 0.22. Specify a solver to silence this warning.\n",
      "\n",
      "/usr/local/lib/python3.6/dist-packages/sklearn/linear_model/logistic.py:432: FutureWarning:\n",
      "\n",
      "Default solver will be changed to 'lbfgs' in 0.22. Specify a solver to silence this warning.\n",
      "\n",
      "/usr/local/lib/python3.6/dist-packages/sklearn/linear_model/logistic.py:432: FutureWarning:\n",
      "\n",
      "Default solver will be changed to 'lbfgs' in 0.22. Specify a solver to silence this warning.\n",
      "\n"
     ]
    },
    {
     "name": "stdout",
     "output_type": "stream",
     "text": [
      "Accuracy:0.49775949321792246\n"
     ]
    },
    {
     "name": "stderr",
     "output_type": "stream",
     "text": [
      "/usr/local/lib/python3.6/dist-packages/sklearn/linear_model/logistic.py:432: FutureWarning:\n",
      "\n",
      "Default solver will be changed to 'lbfgs' in 0.22. Specify a solver to silence this warning.\n",
      "\n"
     ]
    }
   ],
   "source": [
    "from sklearn import model_selection, preprocessing, linear_model, naive_bayes, metrics, svm\n",
    "seed = 7\n",
    "model = linear_model.LogisticRegression()\n",
    "scoring = 'accuracy'\n",
    "results = cross_val_score(model,X_train, train_labels ,cv=5, scoring=scoring)\n",
    "print(\"Accuracy:\"+str(results.mean()))"
   ]
  },
  {
   "cell_type": "code",
   "execution_count": 505,
   "metadata": {
    "colab": {
     "base_uri": "https://localhost:8080/",
     "height": 52
    },
    "colab_type": "code",
    "id": "jMypn8m87LS9",
    "outputId": "fd0491b6-7ce6-4596-a39f-e71b0a77c7a5"
   },
   "outputs": [
    {
     "name": "stdout",
     "output_type": "stream",
     "text": [
      "Cross Validation Score = 0.6580\n",
      "AUROC0.7357319556411267\n"
     ]
    }
   ],
   "source": [
    "from sklearn.model_selection import cross_val_score\n",
    "scoring = 'roc_auc'\n",
    "from xgboost import XGBClassifier\n",
    "model=XGBClassifier()\n",
    "cross = fit_and_evaluate(model)\n",
    "print('Cross Validation Score = %0.4f' % cross)\n",
    "results = cross_val_score(model,X_train, train_labels, cv=5, scoring=scoring)\n",
    "print(\"AUROC\"+str(results.mean()))"
   ]
  },
  {
   "cell_type": "code",
   "execution_count": 506,
   "metadata": {
    "colab": {
     "base_uri": "https://localhost:8080/",
     "height": 34
    },
    "colab_type": "code",
    "id": "103HsaMk7ODM",
    "outputId": "4f593dda-dec3-4ac7-e0f5-3bea962e89be"
   },
   "outputs": [
    {
     "name": "stdout",
     "output_type": "stream",
     "text": [
      "Accuracy:0.6627406222871225\n"
     ]
    }
   ],
   "source": [
    "from sklearn.ensemble import RandomForestClassifier\n",
    "seed = 7\n",
    "model = RandomForestClassifier(n_estimators = 10, criterion = 'entropy')\n",
    "scoring = 'accuracy'\n",
    "results = cross_val_score(model,X_train, train_labels ,cv=5, scoring=scoring)\n",
    "print(\"Accuracy:\"+str(results.mean()))"
   ]
  },
  {
   "cell_type": "code",
   "execution_count": 510,
   "metadata": {
    "colab": {
     "base_uri": "https://localhost:8080/",
     "height": 52
    },
    "colab_type": "code",
    "id": "CZZSl5Wl756H",
    "outputId": "9185532b-9d71-463e-d0a8-7bb624825fbf"
   },
   "outputs": [
    {
     "name": "stdout",
     "output_type": "stream",
     "text": [
      "Cross Validation Score = 0.6759\n",
      "AUROC:0.7392382856621069\n"
     ]
    }
   ],
   "source": [
    "from sklearn.ensemble import RandomForestClassifier\n",
    "seed = 7\n",
    "model = RandomForestClassifier(n_estimators = 100, criterion = 'entropy')\n",
    "scoring = 'roc_auc'\n",
    "cross = fit_and_evaluate(model)\n",
    "print('Cross Validation Score = %0.4f' % cross)\n",
    "results = cross_val_score(model,X_train, train_labels ,cv=5, scoring=scoring)\n",
    "print(\"AUROC:\"+str(results.mean()))"
   ]
  },
  {
   "cell_type": "code",
   "execution_count": 507,
   "metadata": {
    "colab": {
     "base_uri": "https://localhost:8080/",
     "height": 52
    },
    "colab_type": "code",
    "id": "Geocgf2F7fZQ",
    "outputId": "8213121e-6e41-46a0-9060-0b2b3bb8923d"
   },
   "outputs": [
    {
     "name": "stdout",
     "output_type": "stream",
     "text": [
      "[[464 219]\n",
      " [168 141]]\n"
     ]
    }
   ],
   "source": [
    "model.fit(X_train, Y_train)\n",
    "predicted = model.predict(X_test)\n",
    "matrix = confusion_matrix(Y_test, predicted)\n",
    "print(matrix)"
   ]
  },
  {
   "cell_type": "code",
   "execution_count": 508,
   "metadata": {
    "colab": {
     "base_uri": "https://localhost:8080/",
     "height": 173
    },
    "colab_type": "code",
    "id": "RAirQMs47ld2",
    "outputId": "067ef198-a51b-4710-af07-518d7c7ff3e7"
   },
   "outputs": [
    {
     "name": "stdout",
     "output_type": "stream",
     "text": [
      "              precision    recall  f1-score   support\n",
      "\n",
      "           0       0.73      0.68      0.71       683\n",
      "           1       0.39      0.46      0.42       309\n",
      "\n",
      "    accuracy                           0.61       992\n",
      "   macro avg       0.56      0.57      0.56       992\n",
      "weighted avg       0.63      0.61      0.62       992\n",
      "\n"
     ]
    }
   ],
   "source": [
    "report = classification_report(Y_test, predicted)\n",
    "print(report)"
   ]
  },
  {
   "cell_type": "code",
   "execution_count": 0,
   "metadata": {
    "colab": {},
    "colab_type": "code",
    "id": "KU7eWBZq9NOx"
   },
   "outputs": [],
   "source": [
    "grid = GridSearchCV(pipeline, param_grid=parameteres, cv=5)"
   ]
  },
  {
   "cell_type": "code",
   "execution_count": 0,
   "metadata": {
    "colab": {},
    "colab_type": "code",
    "id": "INJgHoqY9WSM"
   },
   "outputs": [],
   "source": [
    "steps = [('scaler', StandardScaler()), ('SVM', SVC())]\n",
    "\n",
    "from sklearn.pipeline import Pipeline\n",
    "pipeline = Pipeline(steps) "
   ]
  },
  {
   "cell_type": "code",
   "execution_count": 0,
   "metadata": {
    "colab": {},
    "colab_type": "code",
    "id": "cjDEHY779XtA"
   },
   "outputs": [],
   "source": [
    "from sklearn.model_selection import GridSearchCV\n",
    "from sklearn.ensemble import RandomForestClassifier\n",
    "\n",
    "def random_forest_prediction(X_train_data,X_test_data,y_output):\n",
    "    gs = GridSearchCV(\n",
    "        estimator=RandomForestClassifier(),\n",
    "        param_grid={\n",
    "            'max_depth': [3, None],\n",
    "            'n_estimators': (10, 30, 50, 100, 200, 400, 600, 800, 1000),\n",
    "            'max_features': (2,4,6)\n",
    "        }, cv=10, n_jobs=-1, scoring='roc_auc'\n",
    "    )\n",
    "    model = gs.fit(X_train_data,y_output)\n",
    "    pred = model.predict(X_test_data)\n",
    "    \n",
    "    score = -model.best_score_\n",
    "    \n",
    "    return pred, score\n",
    "    \n",
    "pred,score = random_forest_prediction(X_train,X_test,Y_train)\n"
   ]
  },
  {
   "cell_type": "code",
   "execution_count": 0,
   "metadata": {
    "colab": {},
    "colab_type": "code",
    "id": "3l42lZ6X_zNt"
   },
   "outputs": [],
   "source": [
    "report = classification_report(Y_test, pred)\n",
    "print(report)"
   ]
  }
 ],
 "metadata": {
  "accelerator": "GPU",
  "colab": {
   "collapsed_sections": [],
   "name": "FINAL_pred.ipynb",
   "provenance": [],
   "version": "0.3.2"
  },
  "kernelspec": {
   "display_name": "Python 3",
   "name": "python3"
  }
 },
 "nbformat": 4,
 "nbformat_minor": 0
}
